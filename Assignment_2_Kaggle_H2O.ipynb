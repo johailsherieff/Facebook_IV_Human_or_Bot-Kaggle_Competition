{
 "cells": [
  {
   "cell_type": "markdown",
   "metadata": {},
   "source": [
    "## Assignment 2 : Kaggle\n",
    "### Facebook Recruiting IV: Human or Robot?"
   ]
  },
  {
   "cell_type": "markdown",
   "metadata": {},
   "source": [
    "### H2O implementation"
   ]
  },
  {
   "cell_type": "code",
   "execution_count": 0,
   "metadata": {
    "colab": {},
    "colab_type": "code",
    "id": "Z6ntlxhTv-Xw"
   },
   "outputs": [],
   "source": [
    "import h2o"
   ]
  },
  {
   "cell_type": "code",
   "execution_count": 0,
   "metadata": {
    "colab": {},
    "colab_type": "code",
    "id": "Ea7Fvg_rwWO4"
   },
   "outputs": [],
   "source": [
    "from collections import defaultdict\n",
    "import os\n",
    "import time\n",
    "import numpy as np\n",
    "\n",
    "import pandas as pd\n",
    "from sklearn.calibration import CalibratedClassifierCV\n",
    "# from sklearn.cross_validation import StratifiedKFold\n",
    "from sklearn.ensemble import RandomForestClassifier, \\\n",
    "    GradientBoostingClassifier, \\\n",
    "    BaggingClassifier, AdaBoostClassifier\n",
    "from sklearn.metrics import roc_auc_score\n",
    "# import graphlab as gl\n",
    "import xgboost as xgb"
   ]
  },
  {
   "cell_type": "code",
   "execution_count": 0,
   "metadata": {
    "colab": {},
    "colab_type": "code",
    "id": "8iOLDjcyxbaC"
   },
   "outputs": [],
   "source": [
    "import h2o\n",
    "from h2o.automl import H2OAutoML\n",
    "import random, os, sys\n",
    "from datetime import datetime\n",
    "import pandas as pd\n",
    "import logging\n",
    "import csv\n",
    "import optparse\n",
    "import time\n",
    "import json\n",
    "from distutils.util import strtobool\n",
    "import psutil\n",
    "import numpy as np"
   ]
  },
  {
   "cell_type": "code",
   "execution_count": 0,
   "metadata": {
    "colab": {
     "base_uri": "https://localhost:8080/",
     "height": 34
    },
    "colab_type": "code",
    "id": "AgjQP18HxilX",
    "outputId": "db1338a8-8321-4fed-d8db-7122b30027f0"
   },
   "outputs": [
    {
     "name": "stdout",
     "output_type": "stream",
     "text": [
      "6\n"
     ]
    }
   ],
   "source": [
    "pct_memory=0.5\n",
    "virtual_memory=psutil.virtual_memory()\n",
    "min_mem_size=int(round(int(pct_memory*virtual_memory.available)/1073741824,0))\n",
    "print(min_mem_size)"
   ]
  },
  {
   "cell_type": "code",
   "execution_count": 0,
   "metadata": {
    "colab": {
     "base_uri": "https://localhost:8080/",
     "height": 596
    },
    "colab_type": "code",
    "id": "5avfeE4AxmPi",
    "outputId": "91e52893-79e5-4267-ca3a-609c3de4bbce"
   },
   "outputs": [
    {
     "name": "stdout",
     "output_type": "stream",
     "text": [
      "Checking whether there is an H2O instance running at http://localhost:54321..... not found.\n",
      "Attempting to start a local H2O server...\n",
      "  Java Version: openjdk version \"10.0.2\" 2018-07-17; OpenJDK Runtime Environment (build 10.0.2+13-Ubuntu-1ubuntu0.18.04.4); OpenJDK 64-Bit Server VM (build 10.0.2+13-Ubuntu-1ubuntu0.18.04.4, mixed mode)\n",
      "  Starting server from /usr/local/lib/python3.6/dist-packages/h2o/backend/bin/h2o.jar\n",
      "  Ice root: /tmp/tmp7ycx8tyb\n",
      "  JVM stdout: /tmp/tmp7ycx8tyb/h2o_unknownUser_started_from_python.out\n",
      "  JVM stderr: /tmp/tmp7ycx8tyb/h2o_unknownUser_started_from_python.err\n",
      "  Server is running at http://127.0.0.1:54321\n",
      "Connecting to H2O server at http://127.0.0.1:54321... successful.\n"
     ]
    },
    {
     "data": {
      "text/html": [
       "<div style=\"overflow:auto\"><table style=\"width:50%\"><tr><td>H2O cluster uptime:</td>\n",
       "<td>02 secs</td></tr>\n",
       "<tr><td>H2O cluster timezone:</td>\n",
       "<td>Etc/UTC</td></tr>\n",
       "<tr><td>H2O data parsing timezone:</td>\n",
       "<td>UTC</td></tr>\n",
       "<tr><td>H2O cluster version:</td>\n",
       "<td>3.22.1.4</td></tr>\n",
       "<tr><td>H2O cluster version age:</td>\n",
       "<td>11 days </td></tr>\n",
       "<tr><td>H2O cluster name:</td>\n",
       "<td>H2O_from_python_unknownUser_fo0cc9</td></tr>\n",
       "<tr><td>H2O cluster total nodes:</td>\n",
       "<td>1</td></tr>\n",
       "<tr><td>H2O cluster free memory:</td>\n",
       "<td>6 Gb</td></tr>\n",
       "<tr><td>H2O cluster total cores:</td>\n",
       "<td>2</td></tr>\n",
       "<tr><td>H2O cluster allowed cores:</td>\n",
       "<td>2</td></tr>\n",
       "<tr><td>H2O cluster status:</td>\n",
       "<td>accepting new members, healthy</td></tr>\n",
       "<tr><td>H2O connection url:</td>\n",
       "<td>http://127.0.0.1:54321</td></tr>\n",
       "<tr><td>H2O connection proxy:</td>\n",
       "<td>None</td></tr>\n",
       "<tr><td>H2O internal security:</td>\n",
       "<td>False</td></tr>\n",
       "<tr><td>H2O API Extensions:</td>\n",
       "<td>Amazon S3, XGBoost, Algos, AutoML, Core V3, Core V4</td></tr>\n",
       "<tr><td>Python version:</td>\n",
       "<td>3.6.7 final</td></tr></table></div>"
      ],
      "text/plain": [
       "--------------------------  ---------------------------------------------------\n",
       "H2O cluster uptime:         02 secs\n",
       "H2O cluster timezone:       Etc/UTC\n",
       "H2O data parsing timezone:  UTC\n",
       "H2O cluster version:        3.22.1.4\n",
       "H2O cluster version age:    11 days\n",
       "H2O cluster name:           H2O_from_python_unknownUser_fo0cc9\n",
       "H2O cluster total nodes:    1\n",
       "H2O cluster free memory:    6 Gb\n",
       "H2O cluster total cores:    2\n",
       "H2O cluster allowed cores:  2\n",
       "H2O cluster status:         accepting new members, healthy\n",
       "H2O connection url:         http://127.0.0.1:54321\n",
       "H2O connection proxy:\n",
       "H2O internal security:      False\n",
       "H2O API Extensions:         Amazon S3, XGBoost, Algos, AutoML, Core V3, Core V4\n",
       "Python version:             3.6.7 final\n",
       "--------------------------  ---------------------------------------------------"
      ]
     },
     "metadata": {
      "tags": []
     },
     "output_type": "display_data"
    }
   ],
   "source": [
    "h2o.init(strict_version_check=False,max_mem_size=min_mem_size)"
   ]
  },
  {
   "cell_type": "markdown",
   "metadata": {},
   "source": [
    "## Initialize google drive in your google colaboratory"
   ]
  },
  {
   "cell_type": "code",
   "execution_count": 0,
   "metadata": {
    "colab": {
     "base_uri": "https://localhost:8080/",
     "height": 189
    },
    "colab_type": "code",
    "id": "moChVNmdxTJx",
    "outputId": "44187d40-244f-4ce0-c780-e7232f997bf5",
    "scrolled": true
   },
   "outputs": [
    {
     "name": "stdout",
     "output_type": "stream",
     "text": [
      "Go to this URL in a browser: https://accounts.google.com/o/oauth2/auth?client_id=947318989803-6bn6qk8qdgf4n4g3pfee6491hc0brc4i.apps.googleusercontent.com&redirect_uri=urn%3Aietf%3Awg%3Aoauth%3A2.0%3Aoob&scope=email%20https%3A%2F%2Fwww.googleapis.com%2Fauth%2Fdocs.test%20https%3A%2F%2Fwww.googleapis.com%2Fauth%2Fdrive%20https%3A%2F%2Fwww.googleapis.com%2Fauth%2Fdrive.photos.readonly%20https%3A%2F%2Fwww.googleapis.com%2Fauth%2Fpeopleapi.readonly&response_type=code\n",
      "\n",
      "Enter your authorization code:\n",
      "··········\n",
      "Mounted at /content/drive\n"
     ]
    }
   ],
   "source": [
    "from google.colab import drive\n",
    "drive.mount(\"/content/drive\")"
   ]
  },
  {
   "cell_type": "code",
   "execution_count": 0,
   "metadata": {
    "colab": {
     "base_uri": "https://localhost:8080/",
     "height": 80
    },
    "colab_type": "code",
    "id": "QYAErjPJLSlh",
    "outputId": "8424219c-480c-42c7-fab9-e31b54f3e966"
   },
   "outputs": [
    {
     "name": "stdout",
     "output_type": "stream",
     "text": [
      "    100% |████████████████████████████████| 993kB 5.6MB/s \n",
      "\u001b[?25h  Building wheel for PyDrive (setup.py) ... \u001b[?25ldone\n",
      "\u001b[?25h"
     ]
    }
   ],
   "source": [
    "!pip install -U -q PyDrive"
   ]
  },
  {
   "cell_type": "code",
   "execution_count": 0,
   "metadata": {
    "colab": {},
    "colab_type": "code",
    "id": "tNfIcLjvMaDV"
   },
   "outputs": [],
   "source": [
    "from pydrive.auth import GoogleAuth\n",
    "from pydrive.drive import GoogleDrive\n",
    "from google.colab import auth\n",
    "from oauth2client.client import GoogleCredentials\n",
    "\n",
    "# 1. Authenticate and create the PyDrive client.\n",
    "auth.authenticate_user()\n",
    "gauth = GoogleAuth()\n",
    "gauth.credentials = GoogleCredentials.get_application_default()\n",
    "drive = GoogleDrive(gauth)"
   ]
  },
  {
   "cell_type": "code",
   "execution_count": 0,
   "metadata": {
    "colab": {
     "base_uri": "https://localhost:8080/",
     "height": 884
    },
    "colab_type": "code",
    "id": "C180_8AxMfAx",
    "outputId": "0b9d1298-ae92-42a1-a861-f12add87138e"
   },
   "outputs": [
    {
     "name": "stderr",
     "output_type": "stream",
     "text": [
      "WARNING:googleapiclient.discovery_cache:file_cache is unavailable when using oauth2client >= 4.0.0\n",
      "Traceback (most recent call last):\n",
      "  File \"/usr/local/lib/python3.6/dist-packages/googleapiclient/discovery_cache/__init__.py\", line 36, in autodetect\n",
      "    from google.appengine.api import memcache\n",
      "ModuleNotFoundError: No module named 'google.appengine'\n",
      "\n",
      "During handling of the above exception, another exception occurred:\n",
      "\n",
      "Traceback (most recent call last):\n",
      "  File \"/usr/local/lib/python3.6/dist-packages/googleapiclient/discovery_cache/file_cache.py\", line 33, in <module>\n",
      "    from oauth2client.contrib.locked_file import LockedFile\n",
      "ModuleNotFoundError: No module named 'oauth2client.contrib.locked_file'\n",
      "\n",
      "During handling of the above exception, another exception occurred:\n",
      "\n",
      "Traceback (most recent call last):\n",
      "  File \"/usr/local/lib/python3.6/dist-packages/googleapiclient/discovery_cache/file_cache.py\", line 37, in <module>\n",
      "    from oauth2client.locked_file import LockedFile\n",
      "ModuleNotFoundError: No module named 'oauth2client.locked_file'\n",
      "\n",
      "During handling of the above exception, another exception occurred:\n",
      "\n",
      "Traceback (most recent call last):\n",
      "  File \"/usr/local/lib/python3.6/dist-packages/googleapiclient/discovery_cache/__init__.py\", line 41, in autodetect\n",
      "    from . import file_cache\n",
      "  File \"/usr/local/lib/python3.6/dist-packages/googleapiclient/discovery_cache/file_cache.py\", line 41, in <module>\n",
      "    'file_cache is unavailable when using oauth2client >= 4.0.0')\n",
      "ImportError: file_cache is unavailable when using oauth2client >= 4.0.0\n"
     ]
    },
    {
     "name": "stdout",
     "output_type": "stream",
     "text": [
      "title: final_result.csv, id: 1-4IOgbFPUztXbEHGpKU3uoIFUz5HGYpF\n",
      "title: H2O_result.csv, id: 1rArFf_norU08JD8GLFP2j67qF-2sXzFb\n",
      "title: test_full.csv, id: 1YGIwJEOqSZfWRFVDbTgxmcr2H_85ZvV2\n",
      "title: train_full.csv, id: 1thevO9_YeXxIHepH74Yx8a8gEBEghH6P\n",
      "title: bids.csv, id: 1ZGBx4uqRVrkbaVzLiQGOk6BsNClms1Ds\n",
      "title: bids_auc.csv, id: 1IjPBzKBDfUsqm3Qcd6J5QlWfg_haD2Yy\n",
      "title: Assignment 2.ipynb, id: 108dIhwRphKUZEXMYqNPL8OT80RwqX6m_\n",
      "title: train.csv, id: 1REHRZZIFlEHCknb5rTBQLpgpoNKDVmnu\n",
      "title: result.csv, id: 1QgGQSM5zbb0WZZ0i8KQCadZI5P1Kx1Sd\n",
      "title: prediction_result, id: 1R_pBTw1MGqWzf6nl7Qh9MIJapPWyFNtK\n",
      "title: result_new.csv, id: 1CzZs9fFpLzsizxZyKOlKOUfzjaHLFzVg\n",
      "title: test.csv, id: 1IZSPioHe1-_l1c4rTHBKVBQDzn2XPJZs\n",
      "title: .DS_Store, id: 1xYQA2blLhevuDFBehMtl3IGc9OJ7pAYD\n",
      "title: Rushter.ipynb, id: 1-V7gLYeMxw0xetl5PUz7E_K0A5fSHlJM\n",
      "title: prediction_result.csv, id: 1PmQfE85WT7bgYvTH3vHNh6-wSSs6pigL\n",
      "title: tdiff.csv, id: 1Hjvqu_YzkuZD1nAtajpzSTngU9PpJPJ6\n",
      "title: sampleSubmission.csv, id: 1-E7mW8Q-TCEBUxt1IxL2Ka32S6SmnzUM\n",
      "title: result_updated.csv, id: 1wIbUF1EhNeRT2WnnlwooiwhMT0-WoqvW\n",
      "title: tools.ipynb, id: 1JS0ZD8qQ0HcmMqs0e4GuDkzGrNLPNeYw\n",
      "title: vw, id: 1jnfKFOoPeKGNSup9A2JAdOPGYoQckYqi\n",
      "title: Data, id: 1vXVFgDMrT-sYzkq5b3gdzbIA6KPvKXyE\n",
      "title: .MacOSX, id: 1qpYOPYOhSD9pqrCwWzRGNQpFpj__i1FF\n",
      "title: .ipynb_checkpoints, id: 1hCk2b4cM6KAgw_GRIqvBrj29LtqX8qQn\n"
     ]
    }
   ],
   "source": [
    "file_list = drive.ListFile({'q': \"'1Uq8mxk7V7DR5-1zhfRXKU36DdsID-V1D' in parents and trashed=false\"}).GetList()\n",
    "for file1 in file_list:\n",
    "  print('title: %s, id: %s' % (file1['title'], file1['id']))"
   ]
  },
  {
   "cell_type": "markdown",
   "metadata": {},
   "source": [
    "### To access your files use the specific ids"
   ]
  },
  {
   "cell_type": "code",
   "execution_count": 0,
   "metadata": {
    "colab": {},
    "colab_type": "code",
    "id": "4ge6HdVsNa3o"
   },
   "outputs": [],
   "source": [
    "train_downloaded = drive.CreateFile({'id': '1thevO9_YeXxIHepH74Yx8a8gEBEghH6P'})\n",
    "train_downloaded.GetContentFile('train.csv')\n",
    "test_downloaded = drive.CreateFile({'id': '1YGIwJEOqSZfWRFVDbTgxmcr2H_85ZvV2'})\n",
    "test_downloaded.GetContentFile('test.csv')"
   ]
  },
  {
   "cell_type": "code",
   "execution_count": 0,
   "metadata": {
    "colab": {},
    "colab_type": "code",
    "id": "_h0ADyXpNze9"
   },
   "outputs": [],
   "source": [
    "import pandas as pd\n",
    "import numpy as np\n",
    "Train = pd.read_csv('train.csv')\n",
    "Test = pd.read_csv('test.csv')\n",
    "copy_test=pd.read_csv('test.csv')"
   ]
  },
  {
   "cell_type": "code",
   "execution_count": 0,
   "metadata": {
    "colab": {},
    "colab_type": "code",
    "id": "r7DN2y9TODNA"
   },
   "outputs": [],
   "source": [
    "y = 'outcome'"
   ]
  },
  {
   "cell_type": "code",
   "execution_count": 0,
   "metadata": {
    "colab": {},
    "colab_type": "code",
    "id": "bFjCjW-5Hqn1"
   },
   "outputs": [],
   "source": [
    "def get_independent_variables(df, targ):\n",
    "    C = [name for name in df.columns if name != targ]\n",
    "    # determine column types\n",
    "    ints, reals= [], []\n",
    "    for key, val in df.dtypes.items():\n",
    "        if key in C:\n",
    "            if val == 'int':\n",
    "                ints.append(key)           \n",
    "            else: \n",
    "                reals.append(key)    \n",
    "    x=ints+reals\n",
    "    return x"
   ]
  },
  {
   "cell_type": "markdown",
   "metadata": {},
   "source": [
    "### Loading the data into H2O dataframe"
   ]
  },
  {
   "cell_type": "code",
   "execution_count": 0,
   "metadata": {
    "colab": {
     "base_uri": "https://localhost:8080/",
     "height": 51
    },
    "colab_type": "code",
    "id": "D6zcfol_Ht-0",
    "outputId": "f8f07d17-aef6-47f8-fda3-63e366fc40ce",
    "scrolled": true
   },
   "outputs": [
    {
     "name": "stdout",
     "output_type": "stream",
     "text": [
      "Parse progress: |█████████████████████████████████████████████████████████| 100%\n",
      "Parse progress: |█████████████████████████████████████████████████████████| 100%\n"
     ]
    }
   ],
   "source": [
    "hf = h2o.H2OFrame(Train)"
   ]
  },
  {
   "cell_type": "markdown",
   "metadata": {},
   "source": [
    "**Defining the model configurations**"
   ]
  },
  {
   "cell_type": "code",
   "execution_count": 0,
   "metadata": {
    "colab": {},
    "colab_type": "code",
    "id": "yz6LBSx6OnD4"
   },
   "outputs": [],
   "source": [
    "run_time=500\n",
    "run_id='SOME_ID_20180617_221529' # Just some arbitrary ID\n",
    "server_path='/Users/bear/Documents/INFO_7390/H2O'\n",
    "classification=True\n",
    "scale=False\n",
    "max_models=None\n",
    "balance_y=False # balance_classes=balance_y\n",
    "balance_threshold=0.2\n",
    "project =\"automl_test\"  # project_name = project"
   ]
  },
  {
   "cell_type": "code",
   "execution_count": 0,
   "metadata": {
    "colab": {},
    "colab_type": "code",
    "id": "QB-DaoImPPqo"
   },
   "outputs": [],
   "source": [
    "# import h2o package and specific estimator \n",
    "import h2o\n",
    "from h2o.automl import H2OAutoML"
   ]
  },
  {
   "cell_type": "code",
   "execution_count": 0,
   "metadata": {
    "colab": {},
    "colab_type": "code",
    "id": "_8o3nKwxPV9N"
   },
   "outputs": [],
   "source": [
    "# automl\n",
    "# runs for run_time seconds then builds a stacked ensemble\n",
    "aml = H2OAutoML(max_runtime_secs=run_time,project_name = project,balance_classes=balance_y)"
   ]
  },
  {
   "cell_type": "code",
   "execution_count": 0,
   "metadata": {
    "colab": {
     "base_uri": "https://localhost:8080/",
     "height": 34
    },
    "colab_type": "code",
    "id": "ri7uXpocSyP4",
    "outputId": "864ff503-eaa3-4ad7-9938-7358d3b54452"
   },
   "outputs": [
    {
     "name": "stdout",
     "output_type": "stream",
     "text": [
      "AutoML progress: |████████████████████████████████████████████████████████| 100%\n"
     ]
    }
   ],
   "source": [
    "aml.train(x=X,\n",
    "          y=y,\n",
    "          training_frame=hf)"
   ]
  },
  {
   "cell_type": "code",
   "execution_count": 0,
   "metadata": {
    "colab": {},
    "colab_type": "code",
    "id": "0hqICwvTHWv4"
   },
   "outputs": [],
   "source": [
    "best_model = h2o.get_model(aml.leaderboard[0,'model_id'])"
   ]
  },
  {
   "cell_type": "markdown",
   "metadata": {},
   "source": [
    "### After training the h20 on the entire dataset we get list of models performing well on that dataset. For this specific case gradient boosting machine is perfoming best."
   ]
  },
  {
   "cell_type": "code",
   "execution_count": 0,
   "metadata": {
    "colab": {
     "base_uri": "https://localhost:8080/",
     "height": 34
    },
    "colab_type": "code",
    "id": "TJct5zGBIL0s",
    "outputId": "c8dacd9f-dd03-4f78-f2b0-c627e764e1d7",
    "scrolled": true
   },
   "outputs": [
    {
     "data": {
      "text/plain": [
       "'gbm'"
      ]
     },
     "execution_count": 111,
     "metadata": {
      "tags": []
     },
     "output_type": "execute_result"
    }
   ],
   "source": [
    "best_model.algo"
   ]
  },
  {
   "cell_type": "markdown",
   "metadata": {},
   "source": [
    "### Leaderboard"
   ]
  },
  {
   "cell_type": "code",
   "execution_count": 0,
   "metadata": {
    "colab": {
     "base_uri": "https://localhost:8080/",
     "height": 250
    },
    "colab_type": "code",
    "id": "JhYJPpsATTY-",
    "outputId": "fd8a7841-9c4a-4059-b9a1-09816cc608df",
    "scrolled": true
   },
   "outputs": [
    {
     "data": {
      "text/html": [
       "<table>\n",
       "<thead>\n",
       "<tr><th>model_id                                           </th><th style=\"text-align: right;\">  mean_residual_deviance</th><th style=\"text-align: right;\">    rmse</th><th style=\"text-align: right;\">      mse</th><th style=\"text-align: right;\">      mae</th><th style=\"text-align: right;\">   rmsle</th></tr>\n",
       "</thead>\n",
       "<tbody>\n",
       "<tr><td>GBM_4_AutoML_20190226_211101                       </td><td style=\"text-align: right;\">               0.0371448</td><td style=\"text-align: right;\">0.19273 </td><td style=\"text-align: right;\">0.0371448</td><td style=\"text-align: right;\">0.0763629</td><td style=\"text-align: right;\">0.136401</td></tr>\n",
       "<tr><td>StackedEnsemble_BestOfFamily_AutoML_20190226_211101</td><td style=\"text-align: right;\">               0.0371521</td><td style=\"text-align: right;\">0.192749</td><td style=\"text-align: right;\">0.0371521</td><td style=\"text-align: right;\">0.0769925</td><td style=\"text-align: right;\">0.135639</td></tr>\n",
       "<tr><td>StackedEnsemble_AllModels_AutoML_20190226_211101   </td><td style=\"text-align: right;\">               0.0372378</td><td style=\"text-align: right;\">0.192971</td><td style=\"text-align: right;\">0.0372378</td><td style=\"text-align: right;\">0.0807891</td><td style=\"text-align: right;\">0.136267</td></tr>\n",
       "<tr><td>XGBoost_3_AutoML_20190226_211101                   </td><td style=\"text-align: right;\">               0.0375777</td><td style=\"text-align: right;\">0.19385 </td><td style=\"text-align: right;\">0.0375777</td><td style=\"text-align: right;\">0.0931008</td><td style=\"text-align: right;\">0.138708</td></tr>\n",
       "<tr><td>XGBoost_grid_1_AutoML_20190227_000758_model_1      </td><td style=\"text-align: right;\">               0.037643 </td><td style=\"text-align: right;\">0.194018</td><td style=\"text-align: right;\">0.037643 </td><td style=\"text-align: right;\">0.0799229</td><td style=\"text-align: right;\">0.137712</td></tr>\n",
       "<tr><td>GBM_3_AutoML_20190227_000758                       </td><td style=\"text-align: right;\">               0.0376717</td><td style=\"text-align: right;\">0.194092</td><td style=\"text-align: right;\">0.0376717</td><td style=\"text-align: right;\">0.0758902</td><td style=\"text-align: right;\">0.136904</td></tr>\n",
       "<tr><td>GBM_3_AutoML_20190226_211101                       </td><td style=\"text-align: right;\">               0.0378302</td><td style=\"text-align: right;\">0.1945  </td><td style=\"text-align: right;\">0.0378302</td><td style=\"text-align: right;\">0.0774384</td><td style=\"text-align: right;\">0.138104</td></tr>\n",
       "<tr><td>XGBoost_1_AutoML_20190227_000758                   </td><td style=\"text-align: right;\">               0.0379486</td><td style=\"text-align: right;\">0.194804</td><td style=\"text-align: right;\">0.0379486</td><td style=\"text-align: right;\">0.0776   </td><td style=\"text-align: right;\">0.137873</td></tr>\n",
       "<tr><td>GBM_5_AutoML_20190226_211101                       </td><td style=\"text-align: right;\">               0.0383223</td><td style=\"text-align: right;\">0.195761</td><td style=\"text-align: right;\">0.0383223</td><td style=\"text-align: right;\">0.0835725</td><td style=\"text-align: right;\">0.136342</td></tr>\n",
       "<tr><td>GBM_2_AutoML_20190226_211101                       </td><td style=\"text-align: right;\">               0.0383894</td><td style=\"text-align: right;\">0.195932</td><td style=\"text-align: right;\">0.0383894</td><td style=\"text-align: right;\">0.0769346</td><td style=\"text-align: right;\">0.138622</td></tr>\n",
       "</tbody>\n",
       "</table>"
      ]
     },
     "metadata": {
      "tags": []
     },
     "output_type": "display_data"
    },
    {
     "data": {
      "text/plain": []
     },
     "execution_count": 112,
     "metadata": {
      "tags": []
     },
     "output_type": "execute_result"
    }
   ],
   "source": [
    "aml.leaderboard"
   ]
  },
  {
   "cell_type": "code",
   "execution_count": 0,
   "metadata": {
    "colab": {},
    "colab_type": "code",
    "id": "yTlxQq9pW5IZ"
   },
   "outputs": [],
   "source": [
    "gbm_train, gbm_test= hf.split_frame([0.7],seed=12345)"
   ]
  },
  {
   "cell_type": "markdown",
   "metadata": {},
   "source": [
    "### Importing the Gradient boosting classifier and training the model using H2O autoML"
   ]
  },
  {
   "cell_type": "code",
   "execution_count": 0,
   "metadata": {
    "colab": {
     "base_uri": "https://localhost:8080/",
     "height": 34
    },
    "colab_type": "code",
    "id": "BIo-szJITXEl",
    "outputId": "e873fc4a-d68c-4cb6-d34d-78dd8bb9b417"
   },
   "outputs": [
    {
     "name": "stdout",
     "output_type": "stream",
     "text": [
      "gbm Model Build progress: |███████████████████████████████████████████████| 100%\n"
     ]
    }
   ],
   "source": [
    "from h2o.estimators import H2OGradientBoostingEstimator\n",
    "gbm_model = H2OGradientBoostingEstimator(model_id = \"gbm_default.hex\")\n",
    "gbm_model.train(x = X, y = y, training_frame = hf, validation_frame = gbm_test)"
   ]
  },
  {
   "cell_type": "code",
   "execution_count": 0,
   "metadata": {
    "colab": {
     "base_uri": "https://localhost:8080/",
     "height": 34
    },
    "colab_type": "code",
    "id": "i5nZmwbVa_gN",
    "outputId": "c37ae37c-850d-43a0-b8c6-c8842cd0ceb7"
   },
   "outputs": [
    {
     "name": "stdout",
     "output_type": "stream",
     "text": [
      "Parse progress: |█████████████████████████████████████████████████████████| 100%\n"
     ]
    }
   ],
   "source": [
    "predict_values= pd.DataFrame()\n",
    "predict_values['bidder_id'] = Test['bidder_id']\n",
    "labels = ['payment_account', 'address', 'bidder_id']\n",
    "Test.drop(labels=labels, axis=1, inplace=True)\n",
    "hf_test = h2o.H2OFrame(Test)"
   ]
  },
  {
   "cell_type": "code",
   "execution_count": 0,
   "metadata": {
    "colab": {
     "base_uri": "https://localhost:8080/",
     "height": 204
    },
    "colab_type": "code",
    "id": "upprV3FHdmbX",
    "outputId": "3d996701-75a6-444f-a63c-52599eae4c88"
   },
   "outputs": [
    {
     "data": {
      "text/html": [
       "<div>\n",
       "<style scoped>\n",
       "    .dataframe tbody tr th:only-of-type {\n",
       "        vertical-align: middle;\n",
       "    }\n",
       "\n",
       "    .dataframe tbody tr th {\n",
       "        vertical-align: top;\n",
       "    }\n",
       "\n",
       "    .dataframe thead th {\n",
       "        text-align: right;\n",
       "    }\n",
       "</style>\n",
       "<table border=\"1\" class=\"dataframe\">\n",
       "  <thead>\n",
       "    <tr style=\"text-align: right;\">\n",
       "      <th></th>\n",
       "      <th>bidder_id</th>\n",
       "    </tr>\n",
       "  </thead>\n",
       "  <tbody>\n",
       "    <tr>\n",
       "      <th>0</th>\n",
       "      <td>49bb5a3c944b8fc337981cc7a9ccae41u31d7</td>\n",
       "    </tr>\n",
       "    <tr>\n",
       "      <th>1</th>\n",
       "      <td>a921612b85a1494456e74c09393ccb65ylp4y</td>\n",
       "    </tr>\n",
       "    <tr>\n",
       "      <th>2</th>\n",
       "      <td>6b601e72a4d264dab9ace9d7b229b47479v6i</td>\n",
       "    </tr>\n",
       "    <tr>\n",
       "      <th>3</th>\n",
       "      <td>eaf0ed0afc9689779417274b4791726cn5udi</td>\n",
       "    </tr>\n",
       "    <tr>\n",
       "      <th>4</th>\n",
       "      <td>cdecd8d02ed8c6037e38042c7745f688mx5sf</td>\n",
       "    </tr>\n",
       "  </tbody>\n",
       "</table>\n",
       "</div>"
      ],
      "text/plain": [
       "                               bidder_id\n",
       "0  49bb5a3c944b8fc337981cc7a9ccae41u31d7\n",
       "1  a921612b85a1494456e74c09393ccb65ylp4y\n",
       "2  6b601e72a4d264dab9ace9d7b229b47479v6i\n",
       "3  eaf0ed0afc9689779417274b4791726cn5udi\n",
       "4  cdecd8d02ed8c6037e38042c7745f688mx5sf"
      ]
     },
     "execution_count": 144,
     "metadata": {
      "tags": []
     },
     "output_type": "execute_result"
    }
   ],
   "source": [
    "predict_values.head()"
   ]
  },
  {
   "cell_type": "code",
   "execution_count": 0,
   "metadata": {
    "colab": {
     "base_uri": "https://localhost:8080/",
     "height": 34
    },
    "colab_type": "code",
    "id": "6g4VvrLIXg1E",
    "outputId": "0f5f4cb6-2ddb-42f7-d502-d5b35f21bfb3"
   },
   "outputs": [
    {
     "name": "stdout",
     "output_type": "stream",
     "text": [
      "gbm prediction progress: |████████████████████████████████████████████████| 100%\n"
     ]
    }
   ],
   "source": [
    "predictions = np.zeros([len(hf_test), 1], np.float)\n",
    "predictions = gbm_model.predict(hf_test)"
   ]
  },
  {
   "cell_type": "code",
   "execution_count": 0,
   "metadata": {
    "colab": {
     "base_uri": "https://localhost:8080/",
     "height": 250
    },
    "colab_type": "code",
    "id": "cUIk9HAcd5Rv",
    "outputId": "fd8c7e59-8d6d-4ac2-9a80-c27e6ec1fb89",
    "scrolled": true
   },
   "outputs": [
    {
     "data": {
      "text/html": [
       "<table>\n",
       "<thead>\n",
       "<tr><th style=\"text-align: right;\">     predict</th></tr>\n",
       "</thead>\n",
       "<tbody>\n",
       "<tr><td style=\"text-align: right;\">-0.00351823 </td></tr>\n",
       "<tr><td style=\"text-align: right;\"> 0.000574068</td></tr>\n",
       "<tr><td style=\"text-align: right;\"> 0.000822422</td></tr>\n",
       "<tr><td style=\"text-align: right;\"> 0.0677966  </td></tr>\n",
       "<tr><td style=\"text-align: right;\"> 0.000520014</td></tr>\n",
       "<tr><td style=\"text-align: right;\"> 0.058997   </td></tr>\n",
       "<tr><td style=\"text-align: right;\"> 0.000520014</td></tr>\n",
       "<tr><td style=\"text-align: right;\"> 0.000881717</td></tr>\n",
       "<tr><td style=\"text-align: right;\"> 0.0112079  </td></tr>\n",
       "<tr><td style=\"text-align: right;\"> 0.0656245  </td></tr>\n",
       "</tbody>\n",
       "</table>"
      ]
     },
     "metadata": {
      "tags": []
     },
     "output_type": "display_data"
    },
    {
     "data": {
      "text/plain": []
     },
     "execution_count": 148,
     "metadata": {
      "tags": []
     },
     "output_type": "execute_result"
    }
   ],
   "source": [
    "predictions"
   ]
  },
  {
   "cell_type": "markdown",
   "metadata": {},
   "source": [
    "### The bidder id and predictions are clubbed in one dataframe and then exported to .csv file for final evaluation."
   ]
  },
  {
   "cell_type": "code",
   "execution_count": 0,
   "metadata": {
    "colab": {
     "base_uri": "https://localhost:8080/",
     "height": 250
    },
    "colab_type": "code",
    "id": "zaprPa69cXyh",
    "outputId": "28e18468-537e-49ea-b60a-ef584151a166",
    "scrolled": true
   },
   "outputs": [
    {
     "data": {
      "text/html": [
       "<table>\n",
       "<thead>\n",
       "<tr><th>bidder_id                            </th><th style=\"text-align: right;\">  prediction</th></tr>\n",
       "</thead>\n",
       "<tbody>\n",
       "<tr><td>49bb5a3c944b8fc337981cc7a9ccae41u31d7</td><td style=\"text-align: right;\">-0.00351823 </td></tr>\n",
       "<tr><td>a921612b85a1494456e74c09393ccb65ylp4y</td><td style=\"text-align: right;\"> 0.000574068</td></tr>\n",
       "<tr><td>6b601e72a4d264dab9ace9d7b229b47479v6i</td><td style=\"text-align: right;\"> 0.000822422</td></tr>\n",
       "<tr><td>eaf0ed0afc9689779417274b4791726cn5udi</td><td style=\"text-align: right;\"> 0.0677966  </td></tr>\n",
       "<tr><td>cdecd8d02ed8c6037e38042c7745f688mx5sf</td><td style=\"text-align: right;\"> 0.000520014</td></tr>\n",
       "<tr><td>d4aed439bdc854a56fc6cc3bdb986775w7hxw</td><td style=\"text-align: right;\"> 0.058997   </td></tr>\n",
       "<tr><td>ed591299b162a19ff77f0479495831b31hl1q</td><td style=\"text-align: right;\"> 0.000520014</td></tr>\n",
       "<tr><td>eebdee08b0f67283126ef60307f49680sb9va</td><td style=\"text-align: right;\"> 0.000881717</td></tr>\n",
       "<tr><td>6887f0abc4eb4c79eb0e23c48ceea186vjfih</td><td style=\"text-align: right;\"> 0.0112079  </td></tr>\n",
       "<tr><td>37eb6e2979e66d4ce29a74ac1c8bc6a5lqs6t</td><td style=\"text-align: right;\"> 0.0656245  </td></tr>\n",
       "</tbody>\n",
       "</table>"
      ]
     },
     "metadata": {
      "tags": []
     },
     "output_type": "display_data"
    },
    {
     "data": {
      "text/plain": []
     },
     "execution_count": 196,
     "metadata": {
      "tags": []
     },
     "output_type": "execute_result"
    }
   ],
   "source": [
    "hf_predict_values.head()"
   ]
  },
  {
   "cell_type": "code",
   "execution_count": 0,
   "metadata": {
    "colab": {
     "base_uri": "https://localhost:8080/",
     "height": 34
    },
    "colab_type": "code",
    "id": "ucvT7iMOcPOa",
    "outputId": "d0731581-7ca3-4be3-e0a0-7c22b4f2382a"
   },
   "outputs": [
    {
     "name": "stdout",
     "output_type": "stream",
     "text": [
      "Parse progress: |█████████████████████████████████████████████████████████| 100%\n"
     ]
    }
   ],
   "source": [
    "hf_predict_values = h2o.H2OFrame(predict_values)"
   ]
  },
  {
   "cell_type": "code",
   "execution_count": 0,
   "metadata": {
    "colab": {},
    "colab_type": "code",
    "id": "THjDPLKdaZxD"
   },
   "outputs": [],
   "source": [
    "hf_predict_values['prediction']= predictions[:, 0]"
   ]
  },
  {
   "cell_type": "code",
   "execution_count": 0,
   "metadata": {
    "colab": {},
    "colab_type": "code",
    "id": "p8RYIw4EwJhT"
   },
   "outputs": [],
   "source": [
    "hf_predict_values=hf_predict_values.drop(1)"
   ]
  },
  {
   "cell_type": "markdown",
   "metadata": {},
   "source": [
    "### Sumbission File Header"
   ]
  },
  {
   "cell_type": "code",
   "execution_count": 0,
   "metadata": {
    "colab": {
     "base_uri": "https://localhost:8080/",
     "height": 250
    },
    "colab_type": "code",
    "id": "T6ROrY2XyO3f",
    "outputId": "ea253aa7-e413-46c7-d8a4-96b9a3831a5f"
   },
   "outputs": [
    {
     "data": {
      "text/html": [
       "<table>\n",
       "<thead>\n",
       "<tr><th>bidder_id                            </th><th style=\"text-align: right;\">  prediction</th></tr>\n",
       "</thead>\n",
       "<tbody>\n",
       "<tr><td>49bb5a3c944b8fc337981cc7a9ccae41u31d7</td><td style=\"text-align: right;\">-0.00351823 </td></tr>\n",
       "<tr><td>a921612b85a1494456e74c09393ccb65ylp4y</td><td style=\"text-align: right;\"> 0.000574068</td></tr>\n",
       "<tr><td>6b601e72a4d264dab9ace9d7b229b47479v6i</td><td style=\"text-align: right;\"> 0.000822422</td></tr>\n",
       "<tr><td>eaf0ed0afc9689779417274b4791726cn5udi</td><td style=\"text-align: right;\"> 0.0677966  </td></tr>\n",
       "<tr><td>cdecd8d02ed8c6037e38042c7745f688mx5sf</td><td style=\"text-align: right;\"> 0.000520014</td></tr>\n",
       "<tr><td>d4aed439bdc854a56fc6cc3bdb986775w7hxw</td><td style=\"text-align: right;\"> 0.058997   </td></tr>\n",
       "<tr><td>ed591299b162a19ff77f0479495831b31hl1q</td><td style=\"text-align: right;\"> 0.000520014</td></tr>\n",
       "<tr><td>eebdee08b0f67283126ef60307f49680sb9va</td><td style=\"text-align: right;\"> 0.000881717</td></tr>\n",
       "<tr><td>6887f0abc4eb4c79eb0e23c48ceea186vjfih</td><td style=\"text-align: right;\"> 0.0112079  </td></tr>\n",
       "<tr><td>37eb6e2979e66d4ce29a74ac1c8bc6a5lqs6t</td><td style=\"text-align: right;\"> 0.0656245  </td></tr>\n",
       "</tbody>\n",
       "</table>"
      ]
     },
     "metadata": {
      "tags": []
     },
     "output_type": "display_data"
    },
    {
     "data": {
      "text/plain": []
     },
     "execution_count": 230,
     "metadata": {
      "tags": []
     },
     "output_type": "execute_result"
    }
   ],
   "source": [
    "hf_predict_values.head()"
   ]
  },
  {
   "cell_type": "code",
   "execution_count": 0,
   "metadata": {
    "colab": {
     "base_uri": "https://localhost:8080/",
     "height": 34
    },
    "colab_type": "code",
    "id": "E2XCHa70iTZt",
    "outputId": "8f96ddfe-0145-49f4-8347-26c16e3b966d"
   },
   "outputs": [
    {
     "name": "stdout",
     "output_type": "stream",
     "text": [
      "Export File progress: |███████████████████████████████████████████████████| 100%\n"
     ]
    }
   ],
   "source": [
    "h2o.export_file(hf_predict_values,path = \"/content/drive/My Drive/Assignment_2_Kaggle/H2O_result.csv\", force=True, parts=1)"
   ]
  },
  {
   "cell_type": "code",
   "execution_count": 0,
   "metadata": {
    "colab": {},
    "colab_type": "code",
    "id": "B7kyWLKmr_wL"
   },
   "outputs": [],
   "source": [
    "sample_downloaded = drive.CreateFile({'id': '1-E7mW8Q-TCEBUxt1IxL2Ka32S6SmnzUM'})\n",
    "sample_downloaded.GetContentFile('sampleSubmission.csv')"
   ]
  },
  {
   "cell_type": "code",
   "execution_count": 0,
   "metadata": {
    "colab": {},
    "colab_type": "code",
    "id": "iH6dhrKBrxuH"
   },
   "outputs": [],
   "source": [
    "sub = pd.read_csv('sampleSubmission.csv')"
   ]
  },
  {
   "cell_type": "code",
   "execution_count": 0,
   "metadata": {
    "colab": {},
    "colab_type": "code",
    "id": "BeQxPVnN1WtI"
   },
   "outputs": [],
   "source": [
    "h2o_downloaded = drive.CreateFile({'id': '1rArFf_norU08JD8GLFP2j67qF-2sXzFb'})\n",
    "h2o_downloaded.GetContentFile('H2O_result.csv')"
   ]
  },
  {
   "cell_type": "code",
   "execution_count": 0,
   "metadata": {
    "colab": {},
    "colab_type": "code",
    "id": "0kyNGyXT1g_e"
   },
   "outputs": [],
   "source": [
    "h2o_result = pd.read_csv('H2O_result.csv')"
   ]
  },
  {
   "cell_type": "code",
   "execution_count": 0,
   "metadata": {
    "colab": {
     "base_uri": "https://localhost:8080/",
     "height": 204
    },
    "colab_type": "code",
    "id": "UIlkj26P1pPA",
    "outputId": "77255dcb-7906-4834-bf67-b070b9cfb384"
   },
   "outputs": [
    {
     "data": {
      "text/html": [
       "<div>\n",
       "<style scoped>\n",
       "    .dataframe tbody tr th:only-of-type {\n",
       "        vertical-align: middle;\n",
       "    }\n",
       "\n",
       "    .dataframe tbody tr th {\n",
       "        vertical-align: top;\n",
       "    }\n",
       "\n",
       "    .dataframe thead th {\n",
       "        text-align: right;\n",
       "    }\n",
       "</style>\n",
       "<table border=\"1\" class=\"dataframe\">\n",
       "  <thead>\n",
       "    <tr style=\"text-align: right;\">\n",
       "      <th></th>\n",
       "      <th>bidder_id</th>\n",
       "      <th>prediction</th>\n",
       "    </tr>\n",
       "  </thead>\n",
       "  <tbody>\n",
       "    <tr>\n",
       "      <th>0</th>\n",
       "      <td>49bb5a3c944b8fc337981cc7a9ccae41u31d7</td>\n",
       "      <td>-0.003518</td>\n",
       "    </tr>\n",
       "    <tr>\n",
       "      <th>1</th>\n",
       "      <td>a921612b85a1494456e74c09393ccb65ylp4y</td>\n",
       "      <td>0.000574</td>\n",
       "    </tr>\n",
       "    <tr>\n",
       "      <th>2</th>\n",
       "      <td>6b601e72a4d264dab9ace9d7b229b47479v6i</td>\n",
       "      <td>0.000822</td>\n",
       "    </tr>\n",
       "    <tr>\n",
       "      <th>3</th>\n",
       "      <td>eaf0ed0afc9689779417274b4791726cn5udi</td>\n",
       "      <td>0.067797</td>\n",
       "    </tr>\n",
       "    <tr>\n",
       "      <th>4</th>\n",
       "      <td>cdecd8d02ed8c6037e38042c7745f688mx5sf</td>\n",
       "      <td>0.000520</td>\n",
       "    </tr>\n",
       "  </tbody>\n",
       "</table>\n",
       "</div>"
      ],
      "text/plain": [
       "                               bidder_id  prediction\n",
       "0  49bb5a3c944b8fc337981cc7a9ccae41u31d7   -0.003518\n",
       "1  a921612b85a1494456e74c09393ccb65ylp4y    0.000574\n",
       "2  6b601e72a4d264dab9ace9d7b229b47479v6i    0.000822\n",
       "3  eaf0ed0afc9689779417274b4791726cn5udi    0.067797\n",
       "4  cdecd8d02ed8c6037e38042c7745f688mx5sf    0.000520"
      ]
     },
     "execution_count": 235,
     "metadata": {
      "tags": []
     },
     "output_type": "execute_result"
    }
   ],
   "source": [
    "h2o_result.head()"
   ]
  },
  {
   "cell_type": "code",
   "execution_count": 0,
   "metadata": {
    "colab": {},
    "colab_type": "code",
    "id": "7C1cdog22Uky"
   },
   "outputs": [],
   "source": [
    "sub = sub.merge(h2o_result, on='bidder_id', how='left')"
   ]
  },
  {
   "cell_type": "code",
   "execution_count": 0,
   "metadata": {
    "colab": {
     "base_uri": "https://localhost:8080/",
     "height": 204
    },
    "colab_type": "code",
    "id": "A8B_Rbuf2e9D",
    "outputId": "9fd75f0e-f73d-424b-d9c1-8613545b97d4",
    "scrolled": true
   },
   "outputs": [
    {
     "data": {
      "text/html": [
       "<div>\n",
       "<style scoped>\n",
       "    .dataframe tbody tr th:only-of-type {\n",
       "        vertical-align: middle;\n",
       "    }\n",
       "\n",
       "    .dataframe tbody tr th {\n",
       "        vertical-align: top;\n",
       "    }\n",
       "\n",
       "    .dataframe thead th {\n",
       "        text-align: right;\n",
       "    }\n",
       "</style>\n",
       "<table border=\"1\" class=\"dataframe\">\n",
       "  <thead>\n",
       "    <tr style=\"text-align: right;\">\n",
       "      <th></th>\n",
       "      <th>bidder_id</th>\n",
       "      <th>prediction_x</th>\n",
       "      <th>prediction_y</th>\n",
       "    </tr>\n",
       "  </thead>\n",
       "  <tbody>\n",
       "    <tr>\n",
       "      <th>0</th>\n",
       "      <td>49bb5a3c944b8fc337981cc7a9ccae41u31d7</td>\n",
       "      <td>0.0</td>\n",
       "      <td>-0.003518</td>\n",
       "    </tr>\n",
       "    <tr>\n",
       "      <th>1</th>\n",
       "      <td>a921612b85a1494456e74c09393ccb65ylp4y</td>\n",
       "      <td>0.0</td>\n",
       "      <td>0.000574</td>\n",
       "    </tr>\n",
       "    <tr>\n",
       "      <th>2</th>\n",
       "      <td>6b601e72a4d264dab9ace9d7b229b47479v6i</td>\n",
       "      <td>0.0</td>\n",
       "      <td>0.000822</td>\n",
       "    </tr>\n",
       "    <tr>\n",
       "      <th>3</th>\n",
       "      <td>eaf0ed0afc9689779417274b4791726cn5udi</td>\n",
       "      <td>0.0</td>\n",
       "      <td>0.067797</td>\n",
       "    </tr>\n",
       "    <tr>\n",
       "      <th>4</th>\n",
       "      <td>cdecd8d02ed8c6037e38042c7745f688mx5sf</td>\n",
       "      <td>0.0</td>\n",
       "      <td>0.000520</td>\n",
       "    </tr>\n",
       "  </tbody>\n",
       "</table>\n",
       "</div>"
      ],
      "text/plain": [
       "                               bidder_id  prediction_x  prediction_y\n",
       "0  49bb5a3c944b8fc337981cc7a9ccae41u31d7           0.0     -0.003518\n",
       "1  a921612b85a1494456e74c09393ccb65ylp4y           0.0      0.000574\n",
       "2  6b601e72a4d264dab9ace9d7b229b47479v6i           0.0      0.000822\n",
       "3  eaf0ed0afc9689779417274b4791726cn5udi           0.0      0.067797\n",
       "4  cdecd8d02ed8c6037e38042c7745f688mx5sf           0.0      0.000520"
      ]
     },
     "execution_count": 237,
     "metadata": {
      "tags": []
     },
     "output_type": "execute_result"
    }
   ],
   "source": [
    "sub.head()"
   ]
  },
  {
   "cell_type": "markdown",
   "metadata": {},
   "source": [
    "### Dealing with null values"
   ]
  },
  {
   "cell_type": "markdown",
   "metadata": {},
   "source": [
    "The sample sumbission file contains all the bids required to be classified. There are nearly 4700 bids in the submission file. However there are some missing values also which needs to be taken care of before submitting the file.\n",
    "We are filling the all the null values with mean and converting it to csv format for submission."
   ]
  },
  {
   "cell_type": "code",
   "execution_count": 0,
   "metadata": {
    "colab": {},
    "colab_type": "code",
    "id": "f_onPXWE2hKZ"
   },
   "outputs": [],
   "source": [
    "sub.fillna(0.0511674, inplace=True)"
   ]
  },
  {
   "cell_type": "code",
   "execution_count": 0,
   "metadata": {
    "colab": {},
    "colab_type": "code",
    "id": "7SpvekBU2wC8"
   },
   "outputs": [],
   "source": [
    "sub.drop('prediction_x', 1, inplace=True)"
   ]
  },
  {
   "cell_type": "code",
   "execution_count": 0,
   "metadata": {
    "colab": {},
    "colab_type": "code",
    "id": "5sjuxlrz21Uw"
   },
   "outputs": [],
   "source": [
    "sub.to_csv('/content/drive/My Drive/Assignment_2_Kaggle/final_result.csv', index=False, header=['bidder_id', 'prediction'])"
   ]
  },
  {
   "cell_type": "markdown",
   "metadata": {},
   "source": [
    "## Conclusion:\n",
    "\n",
    "We used H2O AutoML to find the best machine learning classification model. After passing the model to autoML it return the list of top few model which would be a good fit this problem. We selected the gradient boosting machine since it was the top model. We predicted the testing data using trained GBM. The prediction results were far away from top. The model was not performing well, the auc score model for prediction was ~0.90. The rank on private leaderboard was ~450. AutoML predicted accurately that the gradient boosting machine would perform better for this task however it could not perform well at actual prediction of result. "
   ]
  },
  {
   "cell_type": "markdown",
   "metadata": {},
   "source": [
    "## Contributions:\n",
    "\n",
    "After feature engineering the dataset we ran through the H2O AutoML to find out which model gave the best AUC Score and after that we ran the top model from the AutoML leaderboard the GBM model to give an accuracy of ~90 placing us in the top 500 positions in the kaggle leaderboard."
   ]
  },
  {
   "cell_type": "markdown",
   "metadata": {},
   "source": [
    "## Citations:\n",
    "\n",
    "\n",
    "The H2O code in the above program are referenced by the below H2O notebooks from NikBearBrown Professor's repository.\n",
    "\n",
    "https://github.com/nikbearbrown/CSYE_7245/blob/master/H2O/H2O_automl_lending_club.ipynb\\\n",
    "\n",
    "https://github.com/nikbearbrown/CSYE_7245/blob/master/H2O/H2O_automl_model.ipynb\n",
    "\n",
    "To import the dataset from the google drive to the H20 notebook in the google colab we used pydrive which was referred by us is the below link.\n",
    "\n",
    "https://towardsdatascience.com/3-ways-to-load-csv-files-into-colab-7c14fcbdcb92\n",
    "\n"
   ]
  },
  {
   "cell_type": "markdown",
   "metadata": {},
   "source": [
    "## License :\n",
    "\n",
    "Copyright (c) 2019 Johail Sherieff, Parag Bhingarkar\n",
    "\n",
    "Permission is hereby granted, free of charge, to any person obtaining a copy of this software and associated documentation files (the \"Software\"), to deal in the Software without restriction, including without limitation the rights to use, copy, modify, merge, publish, distribute, sublicense, and/or sell copies of the Software, and to permit persons to whom the Software is furnished to do so, subject to the following conditions:\n",
    "\n",
    "The above copyright notice and this permission notice shall be included in all copies or substantial portions of the Software.\n",
    "\n",
    "THE SOFTWARE IS PROVIDED \"AS IS\", WITHOUT WARRANTY OF ANY KIND, EXPRESS OR IMPLIED, INCLUDING BUT NOT LIMITED TO THE WARRANTIES OF MERCHANTABILITY, FITNESS FOR A PARTICULAR PURPOSE AND NONINFRINGEMENT. IN NO EVENT SHALL THE AUTHORS OR COPYRIGHT HOLDERS BE LIABLE FOR ANY CLAIM, DAMAGES OR OTHER LIABILITY, WHETHER IN AN ACTION OF CONTRACT, TORT OR OTHERWISE, ARISING FROM, OUT OF OR IN CONNECTION WITH THE SOFTWARE OR THE USE OR OTHER DEALINGS IN THE SOFTWARE."
   ]
  },
  {
   "cell_type": "markdown",
   "metadata": {},
   "source": [
    "## Submission:"
   ]
  },
  {
   "attachments": {
    "image.png": {
     "image/png": "[encoded data removed]"
    }
   },
   "cell_type": "markdown",
   "metadata": {},
   "source": [
    "![image.png](attachment:image.png)"
   ]
  },
  {
   "cell_type": "code",
   "execution_count": null,
   "metadata": {},
   "outputs": [],
   "source": []
  },
  {
   "cell_type": "code",
   "execution_count": null,
   "metadata": {},
   "outputs": [],
   "source": []
  }
 ],
 "metadata": {
  "colab": {
   "collapsed_sections": [],
   "name": "Assignment 2.ipynb",
   "provenance": [],
   "version": "0.3.2"
  },
  "kernelspec": {
   "display_name": "Python 2",
   "language": "python",
   "name": "python2"
  },
  "language_info": {
   "codemirror_mode": {
    "name": "ipython",
    "version": 2
   },
   "file_extension": ".py",
   "mimetype": "text/x-python",
   "name": "python",
   "nbconvert_exporter": "python",
   "pygments_lexer": "ipython2",
   "version": "2.7.15"
  }
 },
 "nbformat": 4,
 "nbformat_minor": 1
}
